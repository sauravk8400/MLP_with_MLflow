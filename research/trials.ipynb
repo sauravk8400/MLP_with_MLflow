{
 "cells": [
  {
   "metadata": {
    "ExecuteTime": {
     "end_time": "2025-07-18T20:57:36.726291Z",
     "start_time": "2025-07-18T20:57:36.719144Z"
    }
   },
   "cell_type": "code",
   "source": "print(\"hello\")",
   "id": "997541e24dbbf674",
   "outputs": [
    {
     "name": "stdout",
     "output_type": "stream",
     "text": [
      "hello\n"
     ]
    }
   ],
   "execution_count": 1
  },
  {
   "metadata": {
    "ExecuteTime": {
     "end_time": "2025-07-18T21:57:11.918666Z",
     "start_time": "2025-07-18T21:57:11.657542Z"
    }
   },
   "cell_type": "code",
   "source": "d = {\"key\":\"value\", \"key1\":\"value1\"}",
   "id": "372fbc198a0a2d8f",
   "outputs": [],
   "execution_count": 2
  },
  {
   "metadata": {
    "ExecuteTime": {
     "end_time": "2025-07-18T21:58:00.188115Z",
     "start_time": "2025-07-18T21:58:00.178742Z"
    }
   },
   "cell_type": "code",
   "source": "d[\"key\"]",
   "id": "e08ac8422dc769c4",
   "outputs": [
    {
     "data": {
      "text/plain": [
       "'value'"
      ]
     },
     "execution_count": 5,
     "metadata": {},
     "output_type": "execute_result"
    }
   ],
   "execution_count": 5
  },
  {
   "metadata": {
    "ExecuteTime": {
     "end_time": "2025-07-18T21:59:41.025368Z",
     "start_time": "2025-07-18T21:59:41.020768Z"
    }
   },
   "cell_type": "code",
   "source": "from box import ConfigBox",
   "id": "252c39978f73f719",
   "outputs": [],
   "execution_count": 10
  },
  {
   "metadata": {},
   "cell_type": "code",
   "outputs": [],
   "execution_count": null,
   "source": "",
   "id": "19ffc79cda68de39"
  }
 ],
 "metadata": {},
 "nbformat": 4,
 "nbformat_minor": 5
}
